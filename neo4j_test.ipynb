{
 "cells": [
  {
   "cell_type": "markdown",
   "metadata": {},
   "source": [
    "## 连接neo4j"
   ]
  },
  {
   "cell_type": "code",
   "execution_count": 1,
   "metadata": {},
   "outputs": [],
   "source": [
    "from neo4j import GraphDatabase"
   ]
  },
  {
   "cell_type": "code",
   "execution_count": 2,
   "metadata": {},
   "outputs": [],
   "source": [
    "driver = GraphDatabase.driver(uri=\"bolt://localhost:7687\", auth=(\"neo4j\", \"19970619qjw\"), encrypted=False)"
   ]
  },
  {
   "cell_type": "markdown",
   "metadata": {},
   "source": [
    "## 添加"
   ]
  },
  {
   "cell_type": "code",
   "execution_count": 4,
   "metadata": {},
   "outputs": [],
   "source": [
    "# 创建节点\n",
    "def create_node(tx, name, skill):\n",
    "    tx.run(\"CREATE (n:华山 {name: $name, skill: $skill}) \", name=name, skill=skill)\n",
    "with driver.session() as session:\n",
    "    session.write_transaction(create_node, \"岳不群\", \"易筋经\")"
   ]
  },
  {
   "cell_type": "code",
   "execution_count": 5,
   "metadata": {},
   "outputs": [],
   "source": [
    "# 创建关系\n",
    "def create_relation(tx, name1, name2):\n",
    "    tx.run(\" match (a:华山), (b:华山) where a.name = $name1 and b.name = $name2  create (a)-[r:师父]->(b); \", name1=name1, name2=name2)\n",
    "with driver.session() as session:\n",
    "    session.write_transaction(create_relation, \"令狐冲\", \"岳不群\")"
   ]
  },
  {
   "cell_type": "code",
   "execution_count": 6,
   "metadata": {},
   "outputs": [],
   "source": [
    "# 创建节点时添加关系\n",
    "def create_node_relation(tx, name1, name2):\n",
    "    tx.run(\"create (n:自然{name:$name1}), (m:自然{name:$name2})  create (n) - [r:拥抱] -> (m)\", name1=name1, name2=name2)\n",
    "with driver.session() as session:\n",
    "    session.write_transaction(create_node_relation, \"草地\", \"太阳\")"
   ]
  },
  {
   "cell_type": "markdown",
   "metadata": {},
   "source": [
    "## 查询"
   ]
  },
  {
   "cell_type": "code",
   "execution_count": 7,
   "metadata": {},
   "outputs": [
    {
     "name": "stdout",
     "output_type": "stream",
     "text": [
      "<Node id=0 labels={'华山'} properties={'name': '令狐冲', 'skill': '易筋经'}>\n"
     ]
    }
   ],
   "source": [
    "# 查询节点(限制条件)\n",
    "def query_node_by_limit(tx, name):\n",
    "    result = tx.run(\"match (e:华山) where e.name = $name  return e\", name=name)\n",
    "#     print(result.single()[0].values())\n",
    "    for i in result:\n",
    "        print(i[\"e\"])\n",
    "with driver.session() as session:\n",
    "    session.write_transaction(query_node_by_limit, \"令狐冲\")"
   ]
  },
  {
   "cell_type": "code",
   "execution_count": 8,
   "metadata": {},
   "outputs": [
    {
     "name": "stdout",
     "output_type": "stream",
     "text": [
      "<Node id=0 labels={'华山'} properties={'name': '令狐冲', 'skill': '易筋经'}>\n",
      "<Node id=1 labels={'华山'} properties={'name': '岳不群', 'skill': '易筋经'}>\n"
     ]
    }
   ],
   "source": [
    "# 查询节点\n",
    "def query_node(tx):\n",
    "    result = tx.run(\"match (e:华山) return e\")\n",
    "    for i in result:\n",
    "        print(i[\"e\"])\n",
    "with driver.session() as session:\n",
    "    session.write_transaction(query_node)"
   ]
  },
  {
   "cell_type": "code",
   "execution_count": 9,
   "metadata": {},
   "outputs": [
    {
     "name": "stdout",
     "output_type": "stream",
     "text": [
      "<Path start=<Node id=0 labels={'华山'} properties={'name': '令狐冲', 'skill': '易筋经'}> end=<Node id=1 labels={'华山'} properties={'name': '岳不群', 'skill': '易筋经'}> size=1>\n"
     ]
    }
   ],
   "source": [
    "# 根据关系查询节点\n",
    "def query_node_by_relation(tx, name1, name2):\n",
    "    result = tx.run(\"match R = (p1:华山) - [r:师父] ->(p2:华山) where p1.name=$name1 and p2.name=$name2 return R;\", \n",
    "                    name1=name1, name2=name2)\n",
    "    for i in result:\n",
    "        print(i[\"R\"])\n",
    "with driver.session() as session:\n",
    "    session.write_transaction(query_node_by_relation, \"令狐冲\", \"岳不群\")"
   ]
  },
  {
   "cell_type": "markdown",
   "metadata": {},
   "source": [
    "## 更新"
   ]
  },
  {
   "cell_type": "code",
   "execution_count": 10,
   "metadata": {},
   "outputs": [],
   "source": [
    "# 更新关系\n",
    "def update_relation(tx, name1, name2):\n",
    "    tx.run(\"MATCH (n:华山 {name:$name1})-[r:朋友]->(m:华山 {name:$name2}) CREATE (n)-[r2:师父]->(m) SET r2 = r WITH r DELETE r\", name1=name1, name2=name2)\n",
    "with driver.session() as session:\n",
    "    session.write_transaction(update_relation, \"令狐冲\", \"岳不群\")"
   ]
  },
  {
   "cell_type": "code",
   "execution_count": 11,
   "metadata": {},
   "outputs": [
    {
     "name": "stdout",
     "output_type": "stream",
     "text": [
      "<neo4j.BoltStatementResult object at 0x000001DFD2D83160>\n"
     ]
    }
   ],
   "source": [
    "# 更新属性\n",
    "def update_attr(tx, name, skill):\n",
    "    message = tx.run(\"match (e:华山 {name: $name}) set e.skill = $skill\", name=name, skill=skill)\n",
    "    print(message)\n",
    "with driver.session() as session:\n",
    "    session.write_transaction(update_attr, \"令狐冲\", \"吸星大法\")"
   ]
  },
  {
   "cell_type": "code",
   "execution_count": 12,
   "metadata": {},
   "outputs": [],
   "source": [
    "# 更新节点\n",
    "def update_node(tx, name, new_name):\n",
    "    tx.run(\"match (e:华山 {name: $name}) set e.name = $new_name\", name=name, new_name=new_name)\n",
    "with driver.session() as session:\n",
    "    session.write_transaction(update_node, \"令狐冲\", \"LHC\")"
   ]
  },
  {
   "cell_type": "markdown",
   "metadata": {},
   "source": [
    "## 删除"
   ]
  },
  {
   "cell_type": "code",
   "execution_count": 13,
   "metadata": {},
   "outputs": [
    {
     "name": "stdout",
     "output_type": "stream",
     "text": [
      "<neo4j.BoltStatementResult object at 0x000001DFD24E9780>\n"
     ]
    }
   ],
   "source": [
    "# 删除属性\n",
    "def del_attr(tx, name):\n",
    "    message = tx.run(\"match (n:华山 {name:$name}) remove n.skill\", name=name)\n",
    "    print(message)\n",
    "with driver.session() as session:\n",
    "    session.write_transaction(del_attr, \"LHC\")"
   ]
  },
  {
   "cell_type": "code",
   "execution_count": 14,
   "metadata": {},
   "outputs": [],
   "source": [
    "# 删除关系\n",
    "def del_relation(tx, name1, name2):\n",
    "    message = tx.run(\" match (n:华山 {name:$name1}) - [r:师父] -> (m:华山 {name:$name2}) delete r\", name1=name1, name2=name2)\n",
    "with driver.session() as session:\n",
    "    session.write_transaction(del_relation, \"LHC\", \"岳不群\")"
   ]
  },
  {
   "cell_type": "code",
   "execution_count": 15,
   "metadata": {},
   "outputs": [],
   "source": [
    "# 删除节点\n",
    "def del_node(tx, name):\n",
    "    message = tx.run(\"match (n:华山 {name:$name}) delete n\", name=name)\n",
    "with driver.session() as session:\n",
    "    session.write_transaction(del_node, \"LHC\")"
   ]
  },
  {
   "cell_type": "code",
   "execution_count": 16,
   "metadata": {},
   "outputs": [],
   "source": [
    "# 删除标签\n",
    "def del_label(tx):\n",
    "    message = tx.run(\"match (n:华山) delete n\")\n",
    "with driver.session() as session:\n",
    "    session.write_transaction(del_label)"
   ]
  },
  {
   "cell_type": "markdown",
   "metadata": {},
   "source": [
    "## 封装为类"
   ]
  },
  {
   "cell_type": "code",
   "execution_count": null,
   "metadata": {},
   "outputs": [],
   "source": [
    "from neo4j import GraphDatabase\n",
    "\n",
    "class HelloWorldExample(object):\n",
    "\n",
    "    def __init__(self, uri, user, password):\n",
    "        self._driver = GraphDatabase.driver(uri, auth=(user, password), encrypted=False)\n",
    "\n",
    "    def close(self):\n",
    "        self._driver.close()\n",
    "\n",
    "    def print_greeting(self, message):\n",
    "        with self._driver.session() as session:\n",
    "            greeting = session.write_transaction(self._create_and_return_greeting, message)\n",
    "            print(greeting)\n",
    "\n",
    "    @staticmethod\n",
    "    def _create_and_return_greeting(tx, message):\n",
    "        result = tx.run(\"CREATE (a:Greeting) \"\n",
    "                        \"SET a.message = $message \"\n",
    "                        \"RETURN a.message + ', from node ' + id(a)\", message=message)\n",
    "        return result.single()[0]\n",
    "    \n",
    "example = HelloWorldExample(\"bolt://localhost:7687\", \"neo4j\", \"19970619qjw\")"
   ]
  }
 ],
 "metadata": {
  "kernelspec": {
   "display_name": "Python 3",
   "language": "python",
   "name": "python3"
  },
  "language_info": {
   "codemirror_mode": {
    "name": "ipython",
    "version": 3
   },
   "file_extension": ".py",
   "mimetype": "text/x-python",
   "name": "python",
   "nbconvert_exporter": "python",
   "pygments_lexer": "ipython3",
   "version": "3.6.10"
  }
 },
 "nbformat": 4,
 "nbformat_minor": 4
}
